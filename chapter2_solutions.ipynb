{
  "nbformat": 4,
  "nbformat_minor": 0,
  "metadata": {
    "colab": {
      "name": "Untitled0.ipynb",
      "provenance": [],
      "authorship_tag": "ABX9TyPE95kb+6PXbhrlVXiP5+3Z",
      "include_colab_link": true
    },
    "kernelspec": {
      "name": "python3",
      "display_name": "Python 3"
    }
  },
  "cells": [
    {
      "cell_type": "markdown",
      "metadata": {
        "id": "view-in-github",
        "colab_type": "text"
      },
      "source": [
        "<a href=\"https://colab.research.google.com/github/manojgali/NLP-Course-Work/blob/master/chapter2_solutions.ipynb\" target=\"_parent\"><img src=\"https://colab.research.google.com/assets/colab-badge.svg\" alt=\"Open In Colab\"/></a>"
      ]
    },
    {
      "cell_type": "code",
      "metadata": {
        "id": "za9TPtgAKXQV",
        "colab_type": "code",
        "colab": {}
      },
      "source": [
        "import nltk\n",
        "from matplotlib.axis import Axis \n",
        "import matplotlib.pyplot as plt  "
      ],
      "execution_count": 25,
      "outputs": []
    },
    {
      "cell_type": "markdown",
      "metadata": {
        "id": "-pSvTfm3KhYI",
        "colab_type": "text"
      },
      "source": [
        "**Create a variable phrase containing a list of words. Review the operations described in the previous chapter, including addition, multiplication, indexing, slicing, and sorting**\n",
        "\n",
        "\n"
      ]
    },
    {
      "cell_type": "code",
      "metadata": {
        "id": "tecumiLcKpvk",
        "colab_type": "code",
        "colab": {
          "base_uri": "https://localhost:8080/",
          "height": 102
        },
        "outputId": "44cce8a2-bc69-4c40-9f6b-4539791f4c36"
      },
      "source": [
        "k=['apple','bannana','dog','elephant']\n",
        "print(\"additon: \",k+['fruit'])\n",
        "print(\"multiplication: \",k*2)\n",
        "print('indexing: ',k[1])\n",
        "print(\"slicing: \",k[:1])\n",
        "print(\"sorting: \", k.sort())"
      ],
      "execution_count": 3,
      "outputs": [
        {
          "output_type": "stream",
          "text": [
            "additon:  ['apple', 'bannana', 'dog', 'elephant', 'fruit']\n",
            "multiplication:  ['apple', 'bannana', 'dog', 'elephant', 'apple', 'bannana', 'dog', 'elephant']\n",
            "indexing:  bannana\n",
            "slicing:  ['apple']\n",
            "sorting:  None\n"
          ],
          "name": "stdout"
        }
      ]
    },
    {
      "cell_type": "markdown",
      "metadata": {
        "id": "-s6m0nLuLxqU",
        "colab_type": "text"
      },
      "source": [
        "**Use the corpus module to explore austen-persuasion.txt. How many word tokens does this book have? How many word types?**"
      ]
    },
    {
      "cell_type": "code",
      "metadata": {
        "id": "lCUvaUw3LorL",
        "colab_type": "code",
        "colab": {
          "base_uri": "https://localhost:8080/",
          "height": 357
        },
        "outputId": "ec4d9e74-8173-4014-cae6-96ba915ad2b2"
      },
      "source": [
        "nltk.download('gutenberg')\n",
        "nltk.corpus.gutenberg.fileids()"
      ],
      "execution_count": 4,
      "outputs": [
        {
          "output_type": "stream",
          "text": [
            "[nltk_data] Downloading package gutenberg to /root/nltk_data...\n",
            "[nltk_data]   Unzipping corpora/gutenberg.zip.\n"
          ],
          "name": "stdout"
        },
        {
          "output_type": "execute_result",
          "data": {
            "text/plain": [
              "['austen-emma.txt',\n",
              " 'austen-persuasion.txt',\n",
              " 'austen-sense.txt',\n",
              " 'bible-kjv.txt',\n",
              " 'blake-poems.txt',\n",
              " 'bryant-stories.txt',\n",
              " 'burgess-busterbrown.txt',\n",
              " 'carroll-alice.txt',\n",
              " 'chesterton-ball.txt',\n",
              " 'chesterton-brown.txt',\n",
              " 'chesterton-thursday.txt',\n",
              " 'edgeworth-parents.txt',\n",
              " 'melville-moby_dick.txt',\n",
              " 'milton-paradise.txt',\n",
              " 'shakespeare-caesar.txt',\n",
              " 'shakespeare-hamlet.txt',\n",
              " 'shakespeare-macbeth.txt',\n",
              " 'whitman-leaves.txt']"
            ]
          },
          "metadata": {
            "tags": []
          },
          "execution_count": 4
        }
      ]
    },
    {
      "cell_type": "code",
      "metadata": {
        "id": "mEKamYU6MIUN",
        "colab_type": "code",
        "colab": {
          "base_uri": "https://localhost:8080/",
          "height": 51
        },
        "outputId": "34ebd03d-9425-45ff-be32-ef14ee01d18b"
      },
      "source": [
        "print(\"word tokens :\", len(nltk.corpus.gutenberg.words('austen-persuasion.txt')))\n",
        "print(\"word types :\", len(set(nltk.corpus.gutenberg.words('austen-persuasion.txt'))))\n"
      ],
      "execution_count": 9,
      "outputs": [
        {
          "output_type": "stream",
          "text": [
            "word tokens : 98171\n",
            "word types : 6132\n"
          ],
          "name": "stdout"
        }
      ]
    },
    {
      "cell_type": "markdown",
      "metadata": {
        "id": "rfF2bZ-wOBAK",
        "colab_type": "text"
      },
      "source": [
        "**Use the Brown corpus reader nltk.corpus.brown.words() or the Web text corpus reader nltk.corpus.webtext.words() to access some sample text in two different genres**."
      ]
    },
    {
      "cell_type": "code",
      "metadata": {
        "id": "G49tYKzoMob6",
        "colab_type": "code",
        "colab": {
          "base_uri": "https://localhost:8080/",
          "height": 306
        },
        "outputId": "2368e2b1-8357-4e3d-85d5-a92a2e2cafc7"
      },
      "source": [
        "nltk.download('brown')\n",
        "nltk.corpus.brown.categories()"
      ],
      "execution_count": 12,
      "outputs": [
        {
          "output_type": "stream",
          "text": [
            "[nltk_data] Downloading package brown to /root/nltk_data...\n",
            "[nltk_data]   Package brown is already up-to-date!\n"
          ],
          "name": "stdout"
        },
        {
          "output_type": "execute_result",
          "data": {
            "text/plain": [
              "['adventure',\n",
              " 'belles_lettres',\n",
              " 'editorial',\n",
              " 'fiction',\n",
              " 'government',\n",
              " 'hobbies',\n",
              " 'humor',\n",
              " 'learned',\n",
              " 'lore',\n",
              " 'mystery',\n",
              " 'news',\n",
              " 'religion',\n",
              " 'reviews',\n",
              " 'romance',\n",
              " 'science_fiction']"
            ]
          },
          "metadata": {
            "tags": []
          },
          "execution_count": 12
        }
      ]
    },
    {
      "cell_type": "code",
      "metadata": {
        "id": "_CRyRDPFOtZE",
        "colab_type": "code",
        "colab": {
          "base_uri": "https://localhost:8080/",
          "height": 51
        },
        "outputId": "ede10f50-982a-483d-a594-5c77486daabb"
      },
      "source": [
        "print(nltk.corpus.brown.words(categories='fiction')[:10])\n",
        "print(nltk.corpus.brown.words(categories='romance')[:10])"
      ],
      "execution_count": 17,
      "outputs": [
        {
          "output_type": "stream",
          "text": [
            "['Thirty-three', 'Scotty', 'did', 'not', 'go', 'back', 'to', 'school', '.', 'His']\n",
            "['They', 'neither', 'liked', 'nor', 'disliked', 'the', 'Old', 'Man', '.', 'To']\n"
          ],
          "name": "stdout"
        }
      ]
    },
    {
      "cell_type": "markdown",
      "metadata": {
        "id": "Q3fRj3bPPNp_",
        "colab_type": "text"
      },
      "source": [
        "**Read in the texts of the State of the Union addresses, using the state_union corpus reader. Count occurrences of men, women, and people in each document. What has happened to the usage of these words over time?**"
      ]
    },
    {
      "cell_type": "code",
      "metadata": {
        "id": "xLCCgp8hP3BT",
        "colab_type": "code",
        "colab": {
          "base_uri": "https://localhost:8080/",
          "height": 68
        },
        "outputId": "c4a0642f-f2a9-460b-b518-b0567ff42ba9"
      },
      "source": [
        "nltk.download('state_union')\n",
        "nltk.corpus.state_union.fileids()[:3]"
      ],
      "execution_count": 22,
      "outputs": [
        {
          "output_type": "stream",
          "text": [
            "[nltk_data] Downloading package state_union to /root/nltk_data...\n",
            "[nltk_data]   Package state_union is already up-to-date!\n"
          ],
          "name": "stdout"
        },
        {
          "output_type": "execute_result",
          "data": {
            "text/plain": [
              "['1945-Truman.txt', '1946-Truman.txt', '1947-Truman.txt']"
            ]
          },
          "metadata": {
            "tags": []
          },
          "execution_count": 22
        }
      ]
    },
    {
      "cell_type": "code",
      "metadata": {
        "id": "Twz4retCOZ7N",
        "colab_type": "code",
        "colab": {
          "base_uri": "https://localhost:8080/",
          "height": 295
        },
        "outputId": "4f599fbd-b551-42e4-8ba3-a812c6e2431a"
      },
      "source": [
        "cfd=nltk.ConditionalFreqDist(\n",
        "    (target,fileid[:4])\n",
        "    for fileid in nltk.corpus.state_union.fileids()\n",
        "    for w in nltk.corpus.state_union.words(fileid)\n",
        "    for target in ['men','women','people']\n",
        "    if w.lower().startswith(target)\n",
        ")\n",
        "cfd.plot()\n",
        "# people is prefered in the most cases then people and \n"
      ],
      "execution_count": 37,
      "outputs": [
        {
          "output_type": "display_data",
          "data": {
            "image/png": "[encoded data removed]",
            "text/plain": [
              "<Figure size 432x288 with 1 Axes>"
            ]
          },
          "metadata": {
            "tags": [],
            "needs_background": "light"
          }
        }
      ]
    },
    {
      "cell_type": "markdown",
      "metadata": {
        "id": "jsgYQDdWddeE",
        "colab_type": "text"
      },
      "source": [
        " **Investigate the holonym-meronym relations for some nouns. Remember that there are three kinds of holonym-meronym relation, so you need to use: member_meronyms(), part_meronyms(), substance_meronyms(), member_holonyms(), part_holonyms(), and substance_holonyms()**."
      ]
    },
    {
      "cell_type": "code",
      "metadata": {
        "id": "Eqdwy-ufOsWj",
        "colab_type": "code",
        "colab": {
          "base_uri": "https://localhost:8080/",
          "height": 51
        },
        "outputId": "9a50d63c-ff2a-4a5b-9cba-121510323f96"
      },
      "source": [
        "nltk.download('wordnet')\n",
        "from nltk.corpus import wordnet as wn"
      ],
      "execution_count": 38,
      "outputs": [
        {
          "output_type": "stream",
          "text": [
            "[nltk_data] Downloading package wordnet to /root/nltk_data...\n",
            "[nltk_data]   Unzipping corpora/wordnet.zip.\n"
          ],
          "name": "stdout"
        }
      ]
    },
    {
      "cell_type": "code",
      "metadata": {
        "id": "xX4BlnxieCCf",
        "colab_type": "code",
        "colab": {
          "base_uri": "https://localhost:8080/",
          "height": 204
        },
        "outputId": "8a1e785f-91b3-4ab1-850b-420012f0853c"
      },
      "source": [
        "wn.synsets('ice')"
      ],
      "execution_count": 40,
      "outputs": [
        {
          "output_type": "execute_result",
          "data": {
            "text/plain": [
              "[Synset('ice.n.01'),\n",
              " Synset('ice.n.02'),\n",
              " Synset('ice.n.03'),\n",
              " Synset('frosting.n.01'),\n",
              " Synset('ice.n.05'),\n",
              " Synset('methamphetamine.n.01'),\n",
              " Synset('internal-combustion_engine.n.01'),\n",
              " Synset('ice_rink.n.01'),\n",
              " Synset('frost.v.01'),\n",
              " Synset('ice.v.02'),\n",
              " Synset('ice.v.03')]"
            ]
          },
          "metadata": {
            "tags": []
          },
          "execution_count": 40
        }
      ]
    },
    {
      "cell_type": "code",
      "metadata": {
        "id": "puEoSnvheGbK",
        "colab_type": "code",
        "colab": {
          "base_uri": "https://localhost:8080/",
          "height": 139
        },
        "outputId": "827fc53a-47dd-4fe8-ce32-53b3dac47f28"
      },
      "source": [
        "print('member_meronyms: ', wn.synsets('stars')[0].member_meronyms())\n",
        "print('part_meronyms: ', wn.synsets('earth')[0].part_meronyms())\n",
        "print('substance_meronyms: ', wn.synsets('ice')[0].substance_meronyms())\n",
        "print('member_holonyms: ', wn.synsets('animals')[0].member_holonyms())\n",
        "print('part_holonyms: ', wn.synsets('teeth')[0].part_holonyms())\n",
        "print('substance_holonyms: ', wn.synsets('ice')[0].substance_holonyms())\n"
      ],
      "execution_count": 61,
      "outputs": [
        {
          "output_type": "stream",
          "text": [
            "member_meronyms:  []\n",
            "part_meronyms:  [Synset('atmosphere.n.03'), Synset('hemisphere.n.01'), Synset('hydrosphere.n.01'), Synset('land.n.04'), Synset('lithosphere.n.01'), Synset('sky.n.01'), Synset('van_allen_belt.n.01')]\n",
            "substance_meronyms:  [Synset('water.n.01')]\n",
            "member_holonyms:  [Synset('animalia.n.01')]\n",
            "part_holonyms:  [Synset('mouth.n.01')]\n",
            "substance_holonyms:  [Synset('glacier.n.01'), Synset('ice_cube.n.01')]\n"
          ],
          "name": "stdout"
        }
      ]
    },
    {
      "cell_type": "code",
      "metadata": {
        "id": "9mpePghufXIn",
        "colab_type": "code",
        "colab": {
          "base_uri": "https://localhost:8080/",
          "height": 34
        },
        "outputId": "df635720-1547-4035-bb19-2a099901b36c"
      },
      "source": [
        "wn.synsets('ice')[0].member_meronyms()"
      ],
      "execution_count": 45,
      "outputs": [
        {
          "output_type": "execute_result",
          "data": {
            "text/plain": [
              "[]"
            ]
          },
          "metadata": {
            "tags": []
          },
          "execution_count": 45
        }
      ]
    },
    {
      "cell_type": "code",
      "metadata": {
        "id": "w8sQQyK_f1TG",
        "colab_type": "code",
        "colab": {}
      },
      "source": [
        ""
      ],
      "execution_count": null,
      "outputs": []
    }
  ]
}
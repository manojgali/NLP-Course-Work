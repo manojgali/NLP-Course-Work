{
  "nbformat": 4,
  "nbformat_minor": 0,
  "metadata": {
    "colab": {
      "name": "lab3.ipynb",
      "provenance": [],
      "authorship_tag": "ABX9TyMlygUjY64HOmDuw0EziIYW",
      "include_colab_link": true
    },
    "kernelspec": {
      "name": "python3",
      "display_name": "Python 3"
    }
  },
  "cells": [
    {
      "cell_type": "markdown",
      "metadata": {
        "id": "view-in-github",
        "colab_type": "text"
      },
      "source": [
        "<a href=\"https://colab.research.google.com/github/manojgali/NLP-Course-Work/blob/master/lab3.ipynb\" target=\"_parent\"><img src=\"https://colab.research.google.com/assets/colab-badge.svg\" alt=\"Open In Colab\"/></a>"
      ]
    },
    {
      "cell_type": "markdown",
      "metadata": {
        "id": "baH94ET97XBn"
      },
      "source": [
        "wednesday 30/09/20 10:22pm 11:30pm\n",
        "\n",
        "\n"
      ]
    },
    {
      "cell_type": "code",
      "metadata": {
        "id": "g9JRWku-3uSq",
        "outputId": "7f63cd35-ac4b-45a0-d96b-ea26402367d9",
        "colab": {
          "base_uri": "https://localhost:8080/",
          "height": 68
        }
      },
      "source": [
        "from __future__ import division\n",
        "import nltk, re, pprint\n",
        "from nltk import word_tokenize\n",
        "nltk.download('punkt')"
      ],
      "execution_count": 1,
      "outputs": [
        {
          "output_type": "stream",
          "text": [
            "[nltk_data] Downloading package punkt to /root/nltk_data...\n",
            "[nltk_data]   Unzipping tokenizers/punkt.zip.\n"
          ],
          "name": "stdout"
        },
        {
          "output_type": "execute_result",
          "data": {
            "text/plain": [
              "True"
            ]
          },
          "metadata": {
            "tags": []
          },
          "execution_count": 1
        }
      ]
    },
    {
      "cell_type": "code",
      "metadata": {
        "id": "Prk93TRp72-2",
        "outputId": "9be2db4f-2261-4c5e-d3f4-ca722efff92d",
        "colab": {
          "base_uri": "https://localhost:8080/",
          "height": 69
        }
      },
      "source": [
        "from urllib  import request\n",
        "url = \"http://www.gutenberg.org/files/2554/2554-0.txt\"    ###reading from this link using request\n",
        "response = request.urlopen(url)\n",
        "raw = response.read().decode('utf8')\n",
        "print(len(raw))\n",
        "print(type(raw))\n",
        "raw[:100]"
      ],
      "execution_count": null,
      "outputs": [
        {
          "output_type": "stream",
          "text": [
            "1176967\n",
            "<class 'str'>\n"
          ],
          "name": "stdout"
        },
        {
          "output_type": "execute_result",
          "data": {
            "application/vnd.google.colaboratory.intrinsic+json": {
              "type": "string"
            },
            "text/plain": [
              "'\\ufeffThe Project Gutenberg EBook of Crime and Punishment, by Fyodor Dostoevsky\\r\\n\\r\\nThis eBook is for the '"
            ]
          },
          "metadata": {
            "tags": []
          },
          "execution_count": 3
        }
      ]
    },
    {
      "cell_type": "code",
      "metadata": {
        "id": "63xSNoIh8avV",
        "outputId": "3fda1b34-70b3-49c8-9ab6-47b497bc071d",
        "colab": {
          "base_uri": "https://localhost:8080/",
          "height": 561
        }
      },
      "source": [
        "tokens=word_tokenize(raw)\n",
        "print(type(tokens))\n",
        "print(len(tokens))\n",
        "tokens[:30]\n"
      ],
      "execution_count": null,
      "outputs": [
        {
          "output_type": "stream",
          "text": [
            "<class 'list'>\n",
            "257727\n"
          ],
          "name": "stdout"
        },
        {
          "output_type": "execute_result",
          "data": {
            "text/plain": [
              "['\\ufeffThe',\n",
              " 'Project',\n",
              " 'Gutenberg',\n",
              " 'EBook',\n",
              " 'of',\n",
              " 'Crime',\n",
              " 'and',\n",
              " 'Punishment',\n",
              " ',',\n",
              " 'by',\n",
              " 'Fyodor',\n",
              " 'Dostoevsky',\n",
              " 'This',\n",
              " 'eBook',\n",
              " 'is',\n",
              " 'for',\n",
              " 'the',\n",
              " 'use',\n",
              " 'of',\n",
              " 'anyone',\n",
              " 'anywhere',\n",
              " 'at',\n",
              " 'no',\n",
              " 'cost',\n",
              " 'and',\n",
              " 'with',\n",
              " 'almost',\n",
              " 'no',\n",
              " 'restrictions',\n",
              " 'whatsoever']"
            ]
          },
          "metadata": {
            "tags": []
          },
          "execution_count": 7
        }
      ]
    },
    {
      "cell_type": "code",
      "metadata": {
        "id": "xEOsMWTm9B-4",
        "outputId": "efefc808-cc1e-44b3-9ac8-7908ae132ec6",
        "colab": {
          "base_uri": "https://localhost:8080/",
          "height": 34
        }
      },
      "source": [
        "from bs4 import BeautifulSoup\n",
        "url = \"http://news.bbc.co.uk/2/hi/health/2284783.stm\"\n",
        "html = request.urlopen(url).read().decode('utf8')\n",
        "raw = BeautifulSoup(html, 'html.parser').get_text()  ###bs4 for html pages\n",
        "tokens = word_tokenize(raw)\n",
        "tokens[:10]"
      ],
      "execution_count": null,
      "outputs": [
        {
          "output_type": "execute_result",
          "data": {
            "text/plain": [
              "['BBC', 'NEWS', '|', 'Health', '|', 'Blondes', \"'to\", 'die', 'out', 'in']"
            ]
          },
          "metadata": {
            "tags": []
          },
          "execution_count": 9
        }
      ]
    },
    {
      "cell_type": "code",
      "metadata": {
        "id": "_K5_VN0BC0xl"
      },
      "source": [
        "#!pip install feedparser"
      ],
      "execution_count": null,
      "outputs": []
    },
    {
      "cell_type": "code",
      "metadata": {
        "id": "tGbdLYMx-hjs",
        "outputId": "368c92a2-70e0-4562-89d9-88a2575e6e7b",
        "colab": {
          "base_uri": "https://localhost:8080/",
          "height": 35
        }
      },
      "source": [
        "import feedparser\n",
        "llog = feedparser.parse(\"http://languagelog.ldc.upenn.edu/nll/?feed=atom\")\n",
        "llog['feed']['title']"
      ],
      "execution_count": null,
      "outputs": [
        {
          "output_type": "execute_result",
          "data": {
            "application/vnd.google.colaboratory.intrinsic+json": {
              "type": "string"
            },
            "text/plain": [
              "'Language Log'"
            ]
          },
          "metadata": {
            "tags": []
          },
          "execution_count": 14
        }
      ]
    },
    {
      "cell_type": "code",
      "metadata": {
        "id": "mc4ladeiCful",
        "outputId": "e4dcaf8d-a453-4e96-e399-7e91121ab2e6",
        "colab": {
          "base_uri": "https://localhost:8080/",
          "height": 85
        }
      },
      "source": [
        "print(len(llog.entries))\n",
        "post = llog.entries[2]\n",
        "print(post.title)\n",
        "content = post.content[0].value\n",
        "print(content[:70])\n",
        "raw = BeautifulSoup(content, 'html.parser').get_text()\n",
        "word_tokenize(raw[:30])"
      ],
      "execution_count": null,
      "outputs": [
        {
          "output_type": "stream",
          "text": [
            "13\n",
            "Wood chopping board\n",
            "<p align=\"center\"><a href=\"http://languagelog.ldc.upenn.edu/~bgzimmer/\n"
          ],
          "name": "stdout"
        },
        {
          "output_type": "execute_result",
          "data": {
            "text/plain": [
              "['Complete', 'with', 'counterintuitiv']"
            ]
          },
          "metadata": {
            "tags": []
          },
          "execution_count": 24
        }
      ]
    },
    {
      "cell_type": "code",
      "metadata": {
        "id": "avs7ivphDEdU",
        "outputId": "6b18c74d-2cb9-4048-ee0b-de0d2146e81d",
        "colab": {
          "base_uri": "https://localhost:8080/",
          "height": 238
        }
      },
      "source": [
        "a = [1, 2, 3, 4, 5, 6, 7, 6, 5, 4, 3, 2, 1]\n",
        "b = [' ' * 2 * (7 - i) + 'very' * i for i in a]\n",
        "for line in b:\n",
        "  print(line)"
      ],
      "execution_count": 2,
      "outputs": [
        {
          "output_type": "stream",
          "text": [
            "            very\n",
            "          veryvery\n",
            "        veryveryvery\n",
            "      veryveryveryvery\n",
            "    veryveryveryveryvery\n",
            "  veryveryveryveryveryvery\n",
            "veryveryveryveryveryveryvery\n",
            "  veryveryveryveryveryvery\n",
            "    veryveryveryveryvery\n",
            "      veryveryveryvery\n",
            "        veryveryvery\n",
            "          veryvery\n",
            "            very\n"
          ],
          "name": "stdout"
        }
      ]
    },
    {
      "cell_type": "code",
      "metadata": {
        "id": "kvLw_ZinDi8T",
        "outputId": "baa25bfe-0fac-4398-db35-ffd15f9e5172",
        "colab": {
          "base_uri": "https://localhost:8080/",
          "height": 51
        }
      },
      "source": [
        "nltk.download('words')\n",
        "import re\n",
        "wordlist = [w for w in nltk.corpus.words.words('en') if w.islower()]\n"
      ],
      "execution_count": 7,
      "outputs": [
        {
          "output_type": "stream",
          "text": [
            "[nltk_data] Downloading package words to /root/nltk_data...\n",
            "[nltk_data]   Unzipping corpora/words.zip.\n"
          ],
          "name": "stdout"
        }
      ]
    },
    {
      "cell_type": "code",
      "metadata": {
        "id": "y2efgjWFoN7w",
        "outputId": "2d9468ba-ba35-4992-d71c-136c51cda1d1",
        "colab": {
          "base_uri": "https://localhost:8080/",
          "height": 425
        }
      },
      "source": [
        "[w for w in wordlist[:1000] if re.search('ed$', w)] "
      ],
      "execution_count": 10,
      "outputs": [
        {
          "output_type": "execute_result",
          "data": {
            "text/plain": [
              "['abaissed',\n",
              " 'abandoned',\n",
              " 'abased',\n",
              " 'abashed',\n",
              " 'abatised',\n",
              " 'abed',\n",
              " 'aborted',\n",
              " 'abridged',\n",
              " 'abscessed',\n",
              " 'absconded',\n",
              " 'absorbed',\n",
              " 'abstracted',\n",
              " 'abstricted',\n",
              " 'accelerated',\n",
              " 'accepted',\n",
              " 'accidented',\n",
              " 'accoladed',\n",
              " 'accolated',\n",
              " 'accomplished',\n",
              " 'accosted',\n",
              " 'accredited',\n",
              " 'accursed',\n",
              " 'accused',\n",
              " 'accustomed']"
            ]
          },
          "metadata": {
            "tags": []
          },
          "execution_count": 10
        }
      ]
    },
    {
      "cell_type": "code",
      "metadata": {
        "id": "G5Fcdl7U2WyN",
        "outputId": "761958fd-21ce-4186-9abc-e439760463e4",
        "colab": {
          "base_uri": "https://localhost:8080/",
          "height": 34
        }
      },
      "source": [
        "[w for w in wordlist[:10000] if re.search('^..j..t..$', w)]"
      ],
      "execution_count": 17,
      "outputs": [
        {
          "output_type": "execute_result",
          "data": {
            "text/plain": [
              "['abjectly', 'adjuster']"
            ]
          },
          "metadata": {
            "tags": []
          },
          "execution_count": 17
        }
      ]
    },
    {
      "cell_type": "code",
      "metadata": {
        "id": "e-Wfz67v2vTy",
        "outputId": "ad060853-8a54-4357-98c5-2123a2f19724",
        "colab": {
          "base_uri": "https://localhost:8080/",
          "height": 34
        }
      },
      "source": [
        "sum(1 for w in wordlist if re.search('^e-?mail$', w)) ## will match both email and e-mail"
      ],
      "execution_count": 20,
      "outputs": [
        {
          "output_type": "execute_result",
          "data": {
            "text/plain": [
              "0"
            ]
          },
          "metadata": {
            "tags": []
          },
          "execution_count": 20
        }
      ]
    },
    {
      "cell_type": "code",
      "metadata": {
        "id": "Yd84lhGI3C3s",
        "outputId": "ba38d13d-b7f3-43ce-dba4-0f84ecd892a9",
        "colab": {
          "base_uri": "https://localhost:8080/",
          "height": 1000
        }
      },
      "source": [
        "[w for w in wordlist[90000:100000] if re.search('^[g-o]+$', w)]"
      ],
      "execution_count": 34,
      "outputs": [
        {
          "output_type": "execute_result",
          "data": {
            "text/plain": [
              "['klom',\n",
              " 'knoll',\n",
              " 'ko',\n",
              " 'kohl',\n",
              " 'koi',\n",
              " 'koil',\n",
              " 'koilon',\n",
              " 'koinon',\n",
              " 'kokil',\n",
              " 'kokio',\n",
              " 'koko',\n",
              " 'kokoon',\n",
              " 'kolo',\n",
              " 'kolokolo',\n",
              " 'kon',\n",
              " 'kongoni',\n",
              " 'konini',\n",
              " 'l',\n",
              " 'li',\n",
              " 'lignin',\n",
              " 'liin',\n",
              " 'likin',\n",
              " 'liking',\n",
              " 'liknon',\n",
              " 'lill',\n",
              " 'lim',\n",
              " 'liming',\n",
              " 'limn',\n",
              " 'limonin',\n",
              " 'lin',\n",
              " 'ling',\n",
              " 'lingo',\n",
              " 'linin',\n",
              " 'lining',\n",
              " 'link',\n",
              " 'linking',\n",
              " 'linn',\n",
              " 'lino',\n",
              " 'linolin',\n",
              " 'linon',\n",
              " 'lion',\n",
              " 'lo',\n",
              " 'log',\n",
              " 'loggin',\n",
              " 'logging',\n",
              " 'login',\n",
              " 'logion',\n",
              " 'logoi',\n",
              " 'loin',\n",
              " 'loll',\n",
              " 'long',\n",
              " 'longing',\n",
              " 'loo',\n",
              " 'look',\n",
              " 'looking',\n",
              " 'loom',\n",
              " 'looming',\n",
              " 'loon',\n",
              " 'm']"
            ]
          },
          "metadata": {
            "tags": []
          },
          "execution_count": 34
        }
      ]
    },
    {
      "cell_type": "code",
      "metadata": {
        "id": "r6PFQF3z4DDA",
        "outputId": "25a50fd2-f6f1-4482-b9b0-fbbe8cb47b7d",
        "colab": {
          "base_uri": "https://localhost:8080/",
          "height": 986
        }
      },
      "source": [
        "nltk.download('treebank')\n",
        "wsj = sorted(set(nltk.corpus.treebank.words()))\n",
        "[w for w in wsj[900:1000] if re.search('^[0-9]+\\.[0-9]+$', w)]"
      ],
      "execution_count": 40,
      "outputs": [
        {
          "output_type": "stream",
          "text": [
            "[nltk_data] Downloading package treebank to /root/nltk_data...\n",
            "[nltk_data]   Package treebank is already up-to-date!\n"
          ],
          "name": "stdout"
        },
        {
          "output_type": "execute_result",
          "data": {
            "text/plain": [
              "['23.5',\n",
              " '23.72',\n",
              " '234.4',\n",
              " '236.74',\n",
              " '236.79',\n",
              " '24.95',\n",
              " '25.50',\n",
              " '25.6',\n",
              " '251.2',\n",
              " '26.2',\n",
              " '26.5',\n",
              " '26.8',\n",
              " '263.07',\n",
              " '2645.90',\n",
              " '2691.19',\n",
              " '27.1',\n",
              " '27.4',\n",
              " '273.5',\n",
              " '278.7',\n",
              " '28.25',\n",
              " '28.36',\n",
              " '28.4',\n",
              " '28.5',\n",
              " '28.53',\n",
              " '28.6',\n",
              " '29.3',\n",
              " '29.4',\n",
              " '29.9',\n",
              " '292.32',\n",
              " '3.01',\n",
              " '3.04',\n",
              " '3.1',\n",
              " '3.16',\n",
              " '3.18',\n",
              " '3.19',\n",
              " '3.2',\n",
              " '3.20',\n",
              " '3.23',\n",
              " '3.253',\n",
              " '3.28',\n",
              " '3.3',\n",
              " '3.35',\n",
              " '3.375',\n",
              " '3.4',\n",
              " '3.42',\n",
              " '3.43',\n",
              " '3.5',\n",
              " '3.55',\n",
              " '3.6',\n",
              " '3.61',\n",
              " '3.625',\n",
              " '3.7',\n",
              " '3.75',\n",
              " '3.8',\n",
              " '3.80']"
            ]
          },
          "metadata": {
            "tags": []
          },
          "execution_count": 40
        }
      ]
    },
    {
      "cell_type": "code",
      "metadata": {
        "id": "UnUe5jUa6zZC",
        "outputId": "ff789b6f-9744-4803-d17b-ebcdaeeb32a3",
        "colab": {
          "base_uri": "https://localhost:8080/",
          "height": 289
        }
      },
      "source": [
        "word = 'supercalifragilisticexpialidocious'\n",
        "re.findall(r'[aeiou]', word)"
      ],
      "execution_count": 41,
      "outputs": [
        {
          "output_type": "execute_result",
          "data": {
            "text/plain": [
              "['u',\n",
              " 'e',\n",
              " 'a',\n",
              " 'i',\n",
              " 'a',\n",
              " 'i',\n",
              " 'i',\n",
              " 'i',\n",
              " 'e',\n",
              " 'i',\n",
              " 'a',\n",
              " 'i',\n",
              " 'o',\n",
              " 'i',\n",
              " 'o',\n",
              " 'u']"
            ]
          },
          "metadata": {
            "tags": []
          },
          "execution_count": 41
        }
      ]
    },
    {
      "cell_type": "code",
      "metadata": {
        "id": "aaz4mQKsFEWy",
        "outputId": "7081f501-25f3-461e-8a88-cd1d56c25831",
        "colab": {
          "base_uri": "https://localhost:8080/",
          "height": 34
        }
      },
      "source": [
        "[int(n) for n in re.findall(r'[0-9]{2,}', '2009-12-31')]"
      ],
      "execution_count": 55,
      "outputs": [
        {
          "output_type": "execute_result",
          "data": {
            "text/plain": [
              "[2009, 12, 31]"
            ]
          },
          "metadata": {
            "tags": []
          },
          "execution_count": 55
        }
      ]
    },
    {
      "cell_type": "code",
      "metadata": {
        "id": "zYKq9LZLHJVy"
      },
      "source": [
        "regexp = r'^[AEIOUaeiou]+|[AEIOUaeiou]+$|[^AEIOUaeiou]'"
      ],
      "execution_count": null,
      "outputs": []
    }
  ]
}
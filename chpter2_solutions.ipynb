{
  "nbformat": 4,
  "nbformat_minor": 0,
  "metadata": {
    "colab": {
      "name": "chpter2_solutions.ipynb",
      "provenance": [],
      "collapsed_sections": [],
      "authorship_tag": "ABX9TyO7jiYZDnUcLKuI1Nphv27h",
      "include_colab_link": true
    },
    "kernelspec": {
      "name": "python3",
      "display_name": "Python 3"
    }
  },
  "cells": [
    {
      "cell_type": "markdown",
      "metadata": {
        "id": "view-in-github",
        "colab_type": "text"
      },
      "source": [
        "<a href=\"https://colab.research.google.com/github/manojgali/NLP-Course-Work/blob/master/chpter2_solutions.ipynb\" target=\"_parent\"><img src=\"https://colab.research.google.com/assets/colab-badge.svg\" alt=\"Open In Colab\"/></a>"
      ]
    },
    {
      "cell_type": "code",
      "metadata": {
        "id": "za9TPtgAKXQV",
        "colab_type": "code",
        "colab": {}
      },
      "source": [
        "import nltk\n",
        "from matplotlib.axis import Axis \n",
        "import matplotlib.pyplot as plt  "
      ],
      "execution_count": null,
      "outputs": []
    },
    {
      "cell_type": "markdown",
      "metadata": {
        "id": "-pSvTfm3KhYI",
        "colab_type": "text"
      },
      "source": [
        "# **1.Create a variable phrase containing a list of words. Review the operations described in the previous chapter, including addition, multiplication, indexing, slicing, and sorting**\n",
        "\n",
        "\n"
      ]
    },
    {
      "cell_type": "code",
      "metadata": {
        "id": "tecumiLcKpvk",
        "colab_type": "code",
        "colab": {
          "base_uri": "https://localhost:8080/",
          "height": 102
        },
        "outputId": "44cce8a2-bc69-4c40-9f6b-4539791f4c36"
      },
      "source": [
        "k=['apple','bannana','dog','elephant']\n",
        "print(\"additon: \",k+['fruit'])\n",
        "print(\"multiplication: \",k*2)\n",
        "print('indexing: ',k[1])\n",
        "print(\"slicing: \",k[:1])\n",
        "print(\"sorting: \", k.sort())"
      ],
      "execution_count": null,
      "outputs": [
        {
          "output_type": "stream",
          "text": [
            "additon:  ['apple', 'bannana', 'dog', 'elephant', 'fruit']\n",
            "multiplication:  ['apple', 'bannana', 'dog', 'elephant', 'apple', 'bannana', 'dog', 'elephant']\n",
            "indexing:  bannana\n",
            "slicing:  ['apple']\n",
            "sorting:  None\n"
          ],
          "name": "stdout"
        }
      ]
    },
    {
      "cell_type": "markdown",
      "metadata": {
        "id": "-s6m0nLuLxqU",
        "colab_type": "text"
      },
      "source": [
        "**2.Use the corpus module to explore austen-persuasion.txt. How many word tokens does this book have? How many word types?**"
      ]
    },
    {
      "cell_type": "code",
      "metadata": {
        "id": "lCUvaUw3LorL",
        "colab_type": "code",
        "colab": {
          "base_uri": "https://localhost:8080/",
          "height": 357
        },
        "outputId": "ec4d9e74-8173-4014-cae6-96ba915ad2b2"
      },
      "source": [
        "nltk.download('gutenberg')\n",
        "nltk.corpus.gutenberg.fileids()"
      ],
      "execution_count": null,
      "outputs": [
        {
          "output_type": "stream",
          "text": [
            "[nltk_data] Downloading package gutenberg to /root/nltk_data...\n",
            "[nltk_data]   Unzipping corpora/gutenberg.zip.\n"
          ],
          "name": "stdout"
        },
        {
          "output_type": "execute_result",
          "data": {
            "text/plain": [
              "['austen-emma.txt',\n",
              " 'austen-persuasion.txt',\n",
              " 'austen-sense.txt',\n",
              " 'bible-kjv.txt',\n",
              " 'blake-poems.txt',\n",
              " 'bryant-stories.txt',\n",
              " 'burgess-busterbrown.txt',\n",
              " 'carroll-alice.txt',\n",
              " 'chesterton-ball.txt',\n",
              " 'chesterton-brown.txt',\n",
              " 'chesterton-thursday.txt',\n",
              " 'edgeworth-parents.txt',\n",
              " 'melville-moby_dick.txt',\n",
              " 'milton-paradise.txt',\n",
              " 'shakespeare-caesar.txt',\n",
              " 'shakespeare-hamlet.txt',\n",
              " 'shakespeare-macbeth.txt',\n",
              " 'whitman-leaves.txt']"
            ]
          },
          "metadata": {
            "tags": []
          },
          "execution_count": 4
        }
      ]
    },
    {
      "cell_type": "code",
      "metadata": {
        "id": "mEKamYU6MIUN",
        "colab_type": "code",
        "colab": {
          "base_uri": "https://localhost:8080/",
          "height": 51
        },
        "outputId": "34ebd03d-9425-45ff-be32-ef14ee01d18b"
      },
      "source": [
        "print(\"word tokens :\", len(nltk.corpus.gutenberg.words('austen-persuasion.txt')))\n",
        "print(\"word types :\", len(set(nltk.corpus.gutenberg.words('austen-persuasion.txt'))))\n"
      ],
      "execution_count": null,
      "outputs": [
        {
          "output_type": "stream",
          "text": [
            "word tokens : 98171\n",
            "word types : 6132\n"
          ],
          "name": "stdout"
        }
      ]
    },
    {
      "cell_type": "markdown",
      "metadata": {
        "id": "rfF2bZ-wOBAK",
        "colab_type": "text"
      },
      "source": [
        "**3.Use the Brown corpus reader nltk.corpus.brown.words() or the Web text corpus reader nltk.corpus.webtext.words() to access some sample text in two different genres**."
      ]
    },
    {
      "cell_type": "code",
      "metadata": {
        "id": "G49tYKzoMob6",
        "colab_type": "code",
        "colab": {
          "base_uri": "https://localhost:8080/",
          "height": 306
        },
        "outputId": "ae37585c-5f32-43c1-829a-29c61f547cb5"
      },
      "source": [
        "nltk.download('brown')\n",
        "nltk.corpus.brown.categories()"
      ],
      "execution_count": null,
      "outputs": [
        {
          "output_type": "stream",
          "text": [
            "[nltk_data] Downloading package brown to /root/nltk_data...\n",
            "[nltk_data]   Unzipping corpora/brown.zip.\n"
          ],
          "name": "stdout"
        },
        {
          "output_type": "execute_result",
          "data": {
            "text/plain": [
              "['adventure',\n",
              " 'belles_lettres',\n",
              " 'editorial',\n",
              " 'fiction',\n",
              " 'government',\n",
              " 'hobbies',\n",
              " 'humor',\n",
              " 'learned',\n",
              " 'lore',\n",
              " 'mystery',\n",
              " 'news',\n",
              " 'religion',\n",
              " 'reviews',\n",
              " 'romance',\n",
              " 'science_fiction']"
            ]
          },
          "metadata": {
            "tags": []
          },
          "execution_count": 21
        }
      ]
    },
    {
      "cell_type": "code",
      "metadata": {
        "id": "_CRyRDPFOtZE",
        "colab_type": "code",
        "colab": {
          "base_uri": "https://localhost:8080/",
          "height": 51
        },
        "outputId": "ede10f50-982a-483d-a594-5c77486daabb"
      },
      "source": [
        "print(nltk.corpus.brown.words(categories='fiction')[:10])\n",
        "print(nltk.corpus.brown.words(categories='romance')[:10])"
      ],
      "execution_count": null,
      "outputs": [
        {
          "output_type": "stream",
          "text": [
            "['Thirty-three', 'Scotty', 'did', 'not', 'go', 'back', 'to', 'school', '.', 'His']\n",
            "['They', 'neither', 'liked', 'nor', 'disliked', 'the', 'Old', 'Man', '.', 'To']\n"
          ],
          "name": "stdout"
        }
      ]
    },
    {
      "cell_type": "markdown",
      "metadata": {
        "id": "Q3fRj3bPPNp_",
        "colab_type": "text"
      },
      "source": [
        "**4.Read in the texts of the State of the Union addresses, using the state_union corpus reader. Count occurrences of men, women, and people in each document. What has happened to the usage of these words over time?**"
      ]
    },
    {
      "cell_type": "code",
      "metadata": {
        "id": "xLCCgp8hP3BT",
        "colab_type": "code",
        "colab": {
          "base_uri": "https://localhost:8080/",
          "height": 68
        },
        "outputId": "c4a0642f-f2a9-460b-b518-b0567ff42ba9"
      },
      "source": [
        "nltk.download('state_union')\n",
        "nltk.corpus.state_union.fileids()[:3]"
      ],
      "execution_count": null,
      "outputs": [
        {
          "output_type": "stream",
          "text": [
            "[nltk_data] Downloading package state_union to /root/nltk_data...\n",
            "[nltk_data]   Package state_union is already up-to-date!\n"
          ],
          "name": "stdout"
        },
        {
          "output_type": "execute_result",
          "data": {
            "text/plain": [
              "['1945-Truman.txt', '1946-Truman.txt', '1947-Truman.txt']"
            ]
          },
          "metadata": {
            "tags": []
          },
          "execution_count": 22
        }
      ]
    },
    {
      "cell_type": "code",
      "metadata": {
        "id": "Twz4retCOZ7N",
        "colab_type": "code",
        "colab": {
          "base_uri": "https://localhost:8080/",
          "height": 295
        },
        "outputId": "4f599fbd-b551-42e4-8ba3-a812c6e2431a"
      },
      "source": [
        "cfd=nltk.ConditionalFreqDist(\n",
        "    (target,fileid[:4])\n",
        "    for fileid in nltk.corpus.state_union.fileids()\n",
        "    for w in nltk.corpus.state_union.words(fileid)\n",
        "    for target in ['men','women','people']\n",
        "    if w.lower().startswith(target)\n",
        ")\n",
        "cfd.plot()\n",
        "# people is prefered in the most cases then people and \n"
      ],
      "execution_count": null,
      "outputs": [
        {
          "output_type": "display_data",
          "data": {
            "image/png": "[encoded data removed]",
            "text/plain": [
              "<Figure size 432x288 with 1 Axes>"
            ]
          },
          "metadata": {
            "tags": [],
            "needs_background": "light"
          }
        }
      ]
    },
    {
      "cell_type": "markdown",
      "metadata": {
        "id": "jsgYQDdWddeE",
        "colab_type": "text"
      },
      "source": [
        " **5.Investigate the holonym-meronym relations for some nouns. Remember that there are three kinds of holonym-meronym relation, so you need to use: member_meronyms(), part_meronyms(), substance_meronyms(), member_holonyms(), part_holonyms(), and substance_holonyms()**."
      ]
    },
    {
      "cell_type": "code",
      "metadata": {
        "id": "Eqdwy-ufOsWj",
        "colab_type": "code",
        "colab": {
          "base_uri": "https://localhost:8080/",
          "height": 51
        },
        "outputId": "7ae38663-7d45-4891-ee57-b3ec16c77bd0"
      },
      "source": [
        "nltk.download('wordnet')\n",
        "from nltk.corpus import wordnet as wn"
      ],
      "execution_count": null,
      "outputs": [
        {
          "output_type": "stream",
          "text": [
            "[nltk_data] Downloading package wordnet to /root/nltk_data...\n",
            "[nltk_data]   Unzipping corpora/wordnet.zip.\n"
          ],
          "name": "stdout"
        }
      ]
    },
    {
      "cell_type": "code",
      "metadata": {
        "id": "xX4BlnxieCCf",
        "colab_type": "code",
        "colab": {
          "base_uri": "https://localhost:8080/",
          "height": 204
        },
        "outputId": "8a1e785f-91b3-4ab1-850b-420012f0853c"
      },
      "source": [
        "wn.synsets('ice')"
      ],
      "execution_count": null,
      "outputs": [
        {
          "output_type": "execute_result",
          "data": {
            "text/plain": [
              "[Synset('ice.n.01'),\n",
              " Synset('ice.n.02'),\n",
              " Synset('ice.n.03'),\n",
              " Synset('frosting.n.01'),\n",
              " Synset('ice.n.05'),\n",
              " Synset('methamphetamine.n.01'),\n",
              " Synset('internal-combustion_engine.n.01'),\n",
              " Synset('ice_rink.n.01'),\n",
              " Synset('frost.v.01'),\n",
              " Synset('ice.v.02'),\n",
              " Synset('ice.v.03')]"
            ]
          },
          "metadata": {
            "tags": []
          },
          "execution_count": 40
        }
      ]
    },
    {
      "cell_type": "code",
      "metadata": {
        "id": "puEoSnvheGbK",
        "colab_type": "code",
        "colab": {
          "base_uri": "https://localhost:8080/",
          "height": 139
        },
        "outputId": "80c6032f-c2c6-4841-9ff1-4f17e2cfa80f"
      },
      "source": [
        "print('member_meronyms: ', wn.synsets('')[0].member_meronyms())\n",
        "print('part_meronyms: ', wn.synsets('earth')[0].part_meronyms())\n",
        "print('substance_meronyms: ', wn.synsets('ice')[0].substance_meronyms())\n",
        "print('member_holonyms: ', wn.synsets('animals')[0].member_holonyms())\n",
        "print('part_holonyms: ', wn.synsets('teeth')[0].part_holonyms())\n",
        "print('substance_holonyms: ', wn.synsets('ice')[0].substance_holonyms())\n"
      ],
      "execution_count": null,
      "outputs": [
        {
          "output_type": "stream",
          "text": [
            "member_meronyms:  []\n",
            "part_meronyms:  [Synset('atmosphere.n.03'), Synset('hemisphere.n.01'), Synset('hydrosphere.n.01'), Synset('land.n.04'), Synset('lithosphere.n.01'), Synset('sky.n.01'), Synset('van_allen_belt.n.01')]\n",
            "substance_meronyms:  [Synset('water.n.01')]\n",
            "member_holonyms:  [Synset('animalia.n.01')]\n",
            "part_holonyms:  [Synset('mouth.n.01')]\n",
            "substance_holonyms:  [Synset('glacier.n.01'), Synset('ice_cube.n.01')]\n"
          ],
          "name": "stdout"
        }
      ]
    },
    {
      "cell_type": "markdown",
      "metadata": {
        "id": "ZpwrGUGIQHjI",
        "colab_type": "text"
      },
      "source": [
        "**6.In the discussion of comparative wordlists, we created an object called translate which you could look up using words in both German and Spanish in order to get corresponding words in English. What problem might arise with this approach? Can you suggest a way to avoid this problem?**"
      ]
    },
    {
      "cell_type": "code",
      "metadata": {
        "id": "9mpePghufXIn",
        "colab_type": "code",
        "colab": {
          "base_uri": "https://localhost:8080/",
          "height": 51
        },
        "outputId": "1b9231e5-57ef-49d8-bbf0-0b9583b8e812"
      },
      "source": [
        "nltk.download('swadesh')\n",
        "from nltk.corpus import swadesh\n"
      ],
      "execution_count": null,
      "outputs": [
        {
          "output_type": "stream",
          "text": [
            "[nltk_data] Downloading package swadesh to /root/nltk_data...\n",
            "[nltk_data]   Unzipping corpora/swadesh.zip.\n"
          ],
          "name": "stdout"
        }
      ]
    },
    {
      "cell_type": "code",
      "metadata": {
        "id": "w8sQQyK_f1TG",
        "colab_type": "code",
        "colab": {}
      },
      "source": [
        "de2en = swadesh.entries(['de', 'en']) \n",
        "translate=dict(de2en)\n"
      ],
      "execution_count": null,
      "outputs": []
    },
    {
      "cell_type": "code",
      "metadata": {
        "id": "BDc6oLh5RrzZ",
        "colab_type": "code",
        "colab": {
          "base_uri": "https://localhost:8080/",
          "height": 197
        },
        "outputId": "141c315f-fc58-47e2-fc3d-56b2a65a1fe6"
      },
      "source": [
        "print(translate['Hund']) #working with Capital letter but not with small\n",
        "print(translate['hund'])"
      ],
      "execution_count": null,
      "outputs": [
        {
          "output_type": "stream",
          "text": [
            "dog\n"
          ],
          "name": "stdout"
        },
        {
          "output_type": "error",
          "ename": "KeyError",
          "evalue": "ignored",
          "traceback": [
            "\u001b[0;31m---------------------------------------------------------------------------\u001b[0m",
            "\u001b[0;31mKeyError\u001b[0m                                  Traceback (most recent call last)",
            "\u001b[0;32m<ipython-input-18-a858e40251b0>\u001b[0m in \u001b[0;36m<module>\u001b[0;34m()\u001b[0m\n\u001b[1;32m      1\u001b[0m \u001b[0mprint\u001b[0m\u001b[0;34m(\u001b[0m\u001b[0mtranslate\u001b[0m\u001b[0;34m[\u001b[0m\u001b[0;34m'Hund'\u001b[0m\u001b[0;34m]\u001b[0m\u001b[0;34m)\u001b[0m \u001b[0;31m#working with Capital letter but not with small\u001b[0m\u001b[0;34m\u001b[0m\u001b[0;34m\u001b[0m\u001b[0m\n\u001b[0;32m----> 2\u001b[0;31m \u001b[0mprint\u001b[0m\u001b[0;34m(\u001b[0m\u001b[0mtranslate\u001b[0m\u001b[0;34m[\u001b[0m\u001b[0;34m'hund'\u001b[0m\u001b[0;34m]\u001b[0m\u001b[0;34m)\u001b[0m\u001b[0;34m\u001b[0m\u001b[0;34m\u001b[0m\u001b[0m\n\u001b[0m",
            "\u001b[0;31mKeyError\u001b[0m: 'hund'"
          ]
        }
      ]
    },
    {
      "cell_type": "code",
      "metadata": {
        "id": "8evpyazoRwl8",
        "colab_type": "code",
        "colab": {
          "base_uri": "https://localhost:8080/",
          "height": 51
        },
        "outputId": "872a245b-4658-420e-d6dd-4666080bbe98"
      },
      "source": [
        "translate.update(dict([(i.lower(),j.lower()) for i,j in swadesh.entries(['de','en'])]))\n",
        "print(translate['Hund'])\n",
        "print(translate['hund'])"
      ],
      "execution_count": null,
      "outputs": [
        {
          "output_type": "stream",
          "text": [
            "dog\n",
            "dog\n"
          ],
          "name": "stdout"
        }
      ]
    },
    {
      "cell_type": "markdown",
      "metadata": {
        "id": "5ZB5DF8UTtVM",
        "colab_type": "text"
      },
      "source": [
        "**7.According to Strunk and White's Elements of Style, the word however, used at the start of a sentence, means \"in whatever way\" or \"to whatever extent\", and not \"nevertheless\". They give this example of correct usage: However you advise him, he will probably do as he thinks best. (http://www.bartleby.com/141/strunk3.html) Use the concordance tool to study actual usage of this word in the various texts we have been considering. See also the LanguageLog posting \"Fossilized prejudices about 'however'\" at http://itre.cis.upenn.edu/~myl/languagelog/archives/001913.html**"
      ]
    },
    {
      "cell_type": "code",
      "metadata": {
        "id": "dYUjs3mpTaVJ",
        "colab_type": "code",
        "colab": {
          "base_uri": "https://localhost:8080/",
          "height": 493
        },
        "outputId": "092628d0-261f-4729-b5c8-fa190d46bf64"
      },
      "source": [
        "nltk.download('inaugural')\n",
        "text=nltk.Text(nltk.corpus.inaugural.words())\n",
        "text.concordance('however')\n"
      ],
      "execution_count": null,
      "outputs": [
        {
          "output_type": "stream",
          "text": [
            "[nltk_data] Downloading package inaugural to /root/nltk_data...\n",
            "[nltk_data]   Package inaugural is already up-to-date!\n",
            "Displaying 25 of 55 matches:\n",
            " this extensive country . Relying , however , on the purity of their intentions\n",
            "t become me here to speak . I may , however , be pardoned for not suppressing t\n",
            " accord in all questions touching , however remotely , the liberty , prosperity\n",
            "its overthrow . These occurrences , however , have been far less frequent in ou\n",
            "s and promises made in the former . However much the world may have improved in\n",
            "ered with the intention to betray . However strong may be my present purpose to\n",
            "e citizen . As was to be expected , however , from the defect of language and t\n",
            "lation to the latter also . It is , however , consolatory to reflect that most \n",
            "the States to its correction . As , however , one mode of correction is in the \n",
            "e our system . It may be observed , however , as a general remark , that republ\n",
            "ome others of a similar character , however , it appears to be highly expedient\n",
            "he judiciary to declare void ; that however enlightened and patriotic they migh\n",
            " members of Congress might be , and however largely partaking , in the general \n",
            "ur parent isle . There are others , however , which can not be introduced in ou\n",
            "of making it exclusively metallic , however well intended , appears to me to be\n",
            " any distinct lines . Mischievous , however , in their tendencies as collisions\n",
            "of propriety . It may be observed , however , that organized associations of ci\n",
            "ed the institutions of each other , however repugnant to their own principles a\n",
            "culty in their financial concerns . However deeply we may regret anything impru\n",
            "estic concerns . It may be proper , however , that I should give some indicatio\n",
            "dy is with the people . Something , however , may be effected by the means whic\n",
            "earful responsibilities . Happily , however , in the performance of my new duti\n",
            "l congratulation . At that moment , however , when the agitation consequent upo\n",
            " that event no form of government , however admirable in itself and however pro\n",
            "t , however admirable in itself and however productive of material benefits , c\n"
          ],
          "name": "stdout"
        }
      ]
    },
    {
      "cell_type": "markdown",
      "metadata": {
        "id": "2aGoGb8DXC5N",
        "colab_type": "text"
      },
      "source": [
        " **8.Define a conditional frequency distribution over the Names corpus that allows you to see which initial letters are more frequent for males vs. females**"
      ]
    },
    {
      "cell_type": "code",
      "metadata": {
        "id": "PllxXifPUYQB",
        "colab_type": "code",
        "colab": {
          "base_uri": "https://localhost:8080/",
          "height": 68
        },
        "outputId": "307ced98-a61f-4765-f8ee-8db1335f6b5c"
      },
      "source": [
        "nltk.download('names')\n",
        "names=nltk.corpus.names\n",
        "names.fileids()"
      ],
      "execution_count": null,
      "outputs": [
        {
          "output_type": "stream",
          "text": [
            "[nltk_data] Downloading package names to /root/nltk_data...\n",
            "[nltk_data]   Package names is already up-to-date!\n"
          ],
          "name": "stdout"
        },
        {
          "output_type": "execute_result",
          "data": {
            "text/plain": [
              "['female.txt', 'male.txt']"
            ]
          },
          "metadata": {
            "tags": []
          },
          "execution_count": 37
        }
      ]
    },
    {
      "cell_type": "code",
      "metadata": {
        "id": "EeevzFqPXPLo",
        "colab_type": "code",
        "colab": {
          "base_uri": "https://localhost:8080/",
          "height": 280
        },
        "outputId": "d3ad9a1b-cea7-4e13-dc9d-a4f0f012d3b8"
      },
      "source": [
        "cfd=nltk.ConditionalFreqDist(\n",
        "    (fileid,words[0])\n",
        "    for fileid in names.fileids()\n",
        "    for words in names.words(fileid)\n",
        ")\n",
        "cfd.plot()"
      ],
      "execution_count": null,
      "outputs": [
        {
          "output_type": "display_data",
          "data": {
            "image/png": "[encoded data removed]",
            "text/plain": [
              "<Figure size 432x288 with 1 Axes>"
            ]
          },
          "metadata": {
            "tags": [],
            "needs_background": "light"
          }
        }
      ]
    },
    {
      "cell_type": "markdown",
      "metadata": {
        "id": "MAXss_DobSL5",
        "colab_type": "text"
      },
      "source": [
        "**9.Pick a pair of texts and study the differences between them, in terms of vocabulary, vocabulary richness, genre, etc. Can you find pairs of words which have quite different meanings across the two texts, such as monstrous in Moby Dick and in Sense and Sensibility?**"
      ]
    },
    {
      "cell_type": "code",
      "metadata": {
        "id": "DHkX5jcZbRaR",
        "colab_type": "code",
        "colab": {
          "base_uri": "https://localhost:8080/",
          "height": 153
        },
        "outputId": "05a7b6c3-7cb3-4dc5-bfd1-e17f647d0253"
      },
      "source": [
        "nltk.download('gutenberg')\n",
        "nltk.download('punkt')\n",
        "import nltk\n",
        "sense = nltk.Text(nltk.corpus.gutenberg.words('austen-sense.txt'))\n",
        "alice = nltk.Text(nltk.corpus.gutenberg.words('carroll-alice.txt'))\n",
        "print(round(len(sense)/len(alice))) #sense is larget then alice 4 times\n",
        "print(round(len(set(sense))/len(set(alice)))) #unique words sense is twice larger then alice\n",
        "print(\"number of words per sent in sense\",round(len(sense)/len(nltk.corpus.gutenberg.sents('austen-sense.txt'))))\n",
        "print(\"number of words per sent in alice\",round(len(alice)/len(nltk.corpus.gutenberg.sents('carroll-alice.txt'))))\n"
      ],
      "execution_count": null,
      "outputs": [
        {
          "output_type": "stream",
          "text": [
            "[nltk_data] Downloading package gutenberg to /root/nltk_data...\n",
            "[nltk_data]   Package gutenberg is already up-to-date!\n",
            "[nltk_data] Downloading package punkt to /root/nltk_data...\n",
            "[nltk_data]   Package punkt is already up-to-date!\n",
            "4\n",
            "2\n",
            "number of words per sent in sense 28\n",
            "number of words per sent in alice 20\n"
          ],
          "name": "stdout"
        }
      ]
    },
    {
      "cell_type": "code",
      "metadata": {
        "id": "lMetLOYanNHp",
        "colab_type": "code",
        "colab": {
          "base_uri": "https://localhost:8080/",
          "height": 136
        },
        "outputId": "4df71dca-0f55-480c-a6e4-b40abdcaed33"
      },
      "source": [
        "alice.concordance('late')"
      ],
      "execution_count": null,
      "outputs": [
        {
          "output_type": "stream",
          "text": [
            "Displaying 6 of 6 matches:\n",
            "f , ' Oh dear ! Oh dear ! I shall be late !' ( when she thought it over afterw\n",
            "er , ' Oh my ears and whiskers , how late it ' s getting !' She was close behi\n",
            "who wanted leaders , and had been of late much accustomed to usurpation and co\n",
            "k quite so much !' Alas ! it was too late to wish that ! She went on growing ,\n",
            "hear you ! You see , she came rather late , and the Queen said --' ' Get to yo\n",
            " run in to your tea ; it ' s getting late .' So Alice got up and ran off , thi\n"
          ],
          "name": "stdout"
        }
      ]
    },
    {
      "cell_type": "code",
      "metadata": {
        "id": "21bPAQeWa2lk",
        "colab_type": "code",
        "colab": {
          "base_uri": "https://localhost:8080/",
          "height": 442
        },
        "outputId": "59809689-f2e4-4b73-b1a8-ef17171bdf1f"
      },
      "source": [
        "sense.concordance('late') # see the late owner and how late. that will do"
      ],
      "execution_count": null,
      "outputs": [
        {
          "output_type": "stream",
          "text": [
            "Displaying 24 of 24 matches:\n",
            "their surrounding acquaintance . The late owner of this estate was a single ma\n",
            " ten thousand pounds , including the late legacies , was all that remained for\n",
            "still greater affection . Though her late conversation with her daughter - in \n",
            "table for the present , as it is too late in the year for improvements . Perha\n",
            "e in rapture and indecision . It was late in the morning before they returned \n",
            ". Miss Morton , only daughter of the late Lord Morton , with thirty thousand p\n",
            "as dressed , and did not return till late in the evening ; and the Miss Dashwo\n",
            " that Mrs . Jennings ( as she had of late often hoped might be the case ) had \n",
            "is a rectory , but a small one ; the late incumbent , I believe , did not make\n",
            " world , for I have often thought of late , there was nothing more likely to h\n",
            "sity to see how she looked after the late discovery , nor her strong desire to\n",
            "iving of that value -- supposing the late incumbent to have been old and sickl\n",
            "death ?-- NOW indeed it would be too late to sell it , but a man of Colonel Br\n",
            "of the question ; yet why , upon her late behaviour , is she supposed to feel \n",
            " him from the match ; but it was too late THEN , I found , to do any thing , f\n",
            "e been found . But now it is all too late . He must be starved , you know ;-- \n",
            "lemen arrived the next day to a very late dinner , affording a pleasant enlarg\n",
            "lf her suffering mother arriving too late to see this darling child , or to se\n",
            "ikewise not to hope . But it was too late . Hope had already entered ; and fee\n",
            "odings which had been found in their late alarm , allowed herself to trust in \n",
            "e any longer ; I was afraid of being late .\" \" Did Mrs . Ferrars look well ?\" \n",
            "s with him too . But it was then too late , and with a countenance meaning to \n",
            "be again her son . Her family had of late been exceedingly fluctuating . For m\n",
            "n to overcome an affection formed so late in life as at seventeen , and with n\n"
          ],
          "name": "stdout"
        }
      ]
    },
    {
      "cell_type": "markdown",
      "metadata": {
        "id": "fwygmQblnyll",
        "colab_type": "text"
      },
      "source": [
        " **10.Read the BBC News article: UK's Vicky Pollards 'left behind' http://news.bbc.co.uk/1/hi/education/6173441.stm. The article gives the following statistic about teen language: \"the top 20 words used, including yeah, no, but and like, account for around a third of all words.\" How many word types account for a third of all word tokens, for a variety of text sources? What do you conclude about this statistic? Read more about this on LanguageLog, at http://itre.cis.upenn.edu/~myl/languagelog/archives/003993.html.**"
      ]
    },
    {
      "cell_type": "markdown",
      "metadata": {
        "id": "frZuVmOn3Mts",
        "colab_type": "text"
      },
      "source": [
        " http://itre.cis.upenn.edu/~myl/languagelog/archives/003993.html\n",
        " going through this link stop words will be high but it depends on the writter to writter"
      ]
    },
    {
      "cell_type": "markdown",
      "metadata": {
        "id": "5iUWVHKgZF2g",
        "colab_type": "text"
      },
      "source": [
        "11. **Investigate the table of modal distributions and look for other patterns. Try to explain them in terms of your own impressionistic understanding of the different genres. Can you find other closed classes of words that exhibit significant differences across different genres?**"
      ]
    },
    {
      "cell_type": "markdown",
      "metadata": {
        "id": "IE_NNRHJ_c6g",
        "colab_type": "text"
      },
      "source": [
        "**12.The CMU Pronouncing Dictionary contains multiple pronunciations for certain words. How many distinct words does it contain? What fraction of words in this dictionary have more than one possible pronunciation?**"
      ]
    },
    {
      "cell_type": "code",
      "metadata": {
        "id": "qn_2v346jK1H",
        "colab_type": "code",
        "colab": {
          "base_uri": "https://localhost:8080/",
          "height": 51
        },
        "outputId": "39dd9603-6ad0-46ca-d228-864af2eb42f8"
      },
      "source": [
        "import nltk\n",
        "nltk.download('cmudict')\n",
        "entries = nltk.corpus.cmudict.entries()"
      ],
      "execution_count": null,
      "outputs": [
        {
          "output_type": "stream",
          "text": [
            "[nltk_data] Downloading package cmudict to /root/nltk_data...\n",
            "[nltk_data]   Unzipping corpora/cmudict.zip.\n"
          ],
          "name": "stdout"
        }
      ]
    },
    {
      "cell_type": "code",
      "metadata": {
        "id": "IjkkVOYE8XLI",
        "colab_type": "code",
        "colab": {
          "base_uri": "https://localhost:8080/",
          "height": 51
        },
        "outputId": "280a6772-57e3-4b0e-da4f-ab5b05d7809e"
      },
      "source": [
        "print(\"names in the list\",len(entries))\n",
        "words=[]\n",
        "for word, pron in entries:\n",
        "  words.append(word)\n",
        "print(\"unique words in the list\",len(set(words)))"
      ],
      "execution_count": null,
      "outputs": [
        {
          "output_type": "stream",
          "text": [
            "names in the list 133737\n",
            "unique words in the list 123455\n"
          ],
          "name": "stdout"
        }
      ]
    },
    {
      "cell_type": "code",
      "metadata": {
        "id": "1q28E-bf_3EH",
        "colab_type": "code",
        "colab": {
          "base_uri": "https://localhost:8080/",
          "height": 34
        },
        "outputId": "7327c295-47bd-4717-84bd-c00eae0f6499"
      },
      "source": [
        "x=len(entries)-len(set(words))\n",
        "print(\"fraction of words having more than two pronouncations\",x/len(entries)*100)"
      ],
      "execution_count": null,
      "outputs": [
        {
          "output_type": "stream",
          "text": [
            "fraction of words having more than two pronouncations 7.688223902136282\n"
          ],
          "name": "stdout"
        }
      ]
    },
    {
      "cell_type": "markdown",
      "metadata": {
        "id": "Ltn1GwzNCKtq",
        "colab_type": "text"
      },
      "source": [
        "**13.What percentage of noun synsets have no hyponyms? You can get all noun synsets using wn.all_synsets('n').**"
      ]
    },
    {
      "cell_type": "code",
      "metadata": {
        "id": "ZwCPui6dBXzG",
        "colab_type": "code",
        "colab": {
          "base_uri": "https://localhost:8080/",
          "height": 51
        },
        "outputId": "6e1bc125-93a4-45ad-d36f-d4803905b334"
      },
      "source": [
        "import nltk\n",
        "nltk.download('wordnet')\n",
        "from nltk.corpus import wordnet as wn"
      ],
      "execution_count": null,
      "outputs": [
        {
          "output_type": "stream",
          "text": [
            "[nltk_data] Downloading package wordnet to /root/nltk_data...\n",
            "[nltk_data]   Unzipping corpora/wordnet.zip.\n"
          ],
          "name": "stdout"
        }
      ]
    },
    {
      "cell_type": "code",
      "metadata": {
        "id": "Lc805B99DGr5",
        "colab_type": "code",
        "colab": {
          "base_uri": "https://localhost:8080/",
          "height": 34
        },
        "outputId": "4e2292de-b171-4a93-bb22-b72e2454d2f5"
      },
      "source": [
        "total=sum ([1 for _ in wn.all_synsets('n') ])\n",
        "fraction =len([s for s in wn.all_synsets('n') if len(s.hyponyms())==0])/total\n",
        "print(\"the fraction of nouns which dont contain hyponyms\",fraction)\n"
      ],
      "execution_count": null,
      "outputs": [
        {
          "output_type": "stream",
          "text": [
            "the fraction of nouns which dont contain hyponyms 0.7967119283931072\n"
          ],
          "name": "stdout"
        }
      ]
    },
    {
      "cell_type": "markdown",
      "metadata": {
        "id": "rycwEr7YwI4I",
        "colab_type": "text"
      },
      "source": [
        "**14.Define a function supergloss(s) that takes a synset s as its argument and returns a string consisting of the concatenation of the definition of s, and the definitions of all the hypernyms and hyponyms of s.**"
      ]
    },
    {
      "cell_type": "code",
      "metadata": {
        "id": "50jaz_WpDT6X",
        "colab_type": "code",
        "colab": {
          "base_uri": "https://localhost:8080/",
          "height": 137
        },
        "outputId": "5176791b-22b7-43da-c6d0-23f61c779bb1"
      },
      "source": [
        "def supergloss(s):\n",
        "  definitions=s.definition()\n",
        "  for i in s.hypernyms():\n",
        "    definitions+=\"\\n\"+i.definition()\n",
        "    \n",
        "  for i in s.hyponyms():\n",
        "    definitions+=\"\\n\"+i.definition()\n",
        "  return definitions\n",
        "\n",
        "supergloss(wn.synset(\"car.n.01\"))\n",
        "\n"
      ],
      "execution_count": null,
      "outputs": [
        {
          "output_type": "execute_result",
          "data": {
            "application/vnd.google.colaboratory.intrinsic+json": {
              "type": "string"
            },
            "text/plain": [
              "\"a motor vehicle with four wheels; usually propelled by an internal combustion engine\\na self-propelled wheeled vehicle that does not run on rails\\na vehicle that takes people to and from hospitals\\na car that has a long body and rear door with space behind rear seat\\na car that is old and unreliable\\na car driven by a person whose job is to take passengers where they want to go in exchange for money\\na small and economical car\\na car that has top that can be folded or removed\\na car with two doors and front seats and a luggage compartment\\na car in which policemen cruise the streets; equipped with radiotelephonic communications to headquarters\\na car that is powered by electricity\\na car with relatively low fuel efficiency\\na car that resembles a convertible but has a fixed rigid top\\na car having a hatchback door\\nan early term for an automobile\\na car modified to increase its speed and acceleration\\na car suitable for traveling over rough terrain\\nlarge luxurious car; usually driven by a chauffeur\\na car that is lent as a replacement for one that is under repair\\na car that is even smaller than a subcompact car\\na small box-shaped passenger van; usually has removable seats; used as a family car\\nthe first widely available automobile powered by a gasoline engine; mass-produced by Henry Ford from 1908 to 1927\\na high-performance car that leads a parade of competing cars through the pace lap and then pulls off the course\\na fast car that competes in races\\nan open automobile having a front seat and a rumble seat\\na car that is closed and that has front and rear seats and two or four doors\\na high-performance four-wheel drive car built on a truck chassis\\na small low car with a high-powered engine; usually seats two persons\\na steam-powered automobile\\na car kept in dealers' stock for regular sales\\na car smaller than a compact car\\nlarge open car seating four with folding top\\na car that has been previously owned; not a new car\""
            ]
          },
          "metadata": {
            "tags": []
          },
          "execution_count": 22
        }
      ]
    },
    {
      "cell_type": "markdown",
      "metadata": {
        "id": "Lw0egF2mJR2A",
        "colab_type": "text"
      },
      "source": [
        " **15.Write a program to find all words that occur at least three times in the Brown Corpus.**"
      ]
    },
    {
      "cell_type": "code",
      "metadata": {
        "id": "KH63zPwGDged",
        "colab_type": "code",
        "colab": {
          "base_uri": "https://localhost:8080/",
          "height": 68
        },
        "outputId": "791f87e1-b147-4677-b0ea-340fa195bb57"
      },
      "source": [
        "import nltk\n",
        "nltk.download('brown')"
      ],
      "execution_count": 24,
      "outputs": [
        {
          "output_type": "stream",
          "text": [
            "[nltk_data] Downloading package brown to /root/nltk_data...\n",
            "[nltk_data]   Unzipping corpora/brown.zip.\n"
          ],
          "name": "stdout"
        },
        {
          "output_type": "execute_result",
          "data": {
            "text/plain": [
              "True"
            ]
          },
          "metadata": {
            "tags": []
          },
          "execution_count": 24
        }
      ]
    },
    {
      "cell_type": "code",
      "metadata": {
        "id": "XPZ5A2yYycP_",
        "colab_type": "code",
        "colab": {
          "base_uri": "https://localhost:8080/",
          "height": 187
        },
        "outputId": "cae0ed17-db2e-4d2d-deb8-e2e66d83bdf6"
      },
      "source": [
        "from nltk.corpus import brown\n",
        "fdist=nltk.FreqDist(nltk.corpus.brown.words())\n",
        "fdist.most_common(10)"
      ],
      "execution_count": 30,
      "outputs": [
        {
          "output_type": "execute_result",
          "data": {
            "text/plain": [
              "[('the', 62713),\n",
              " (',', 58334),\n",
              " ('.', 49346),\n",
              " ('of', 36080),\n",
              " ('and', 27915),\n",
              " ('to', 25732),\n",
              " ('a', 21881),\n",
              " ('in', 19536),\n",
              " ('that', 10237),\n",
              " ('is', 10011)]"
            ]
          },
          "metadata": {
            "tags": []
          },
          "execution_count": 30
        }
      ]
    },
    {
      "cell_type": "code",
      "metadata": {
        "id": "sxblnHRdy7jO",
        "colab_type": "code",
        "colab": {}
      },
      "source": [
        "unique_words=set(brown.words())\n",
        "atleast_3time=[word for word in unique_words if fdist[word]>2]\n"
      ],
      "execution_count": 43,
      "outputs": []
    },
    {
      "cell_type": "code",
      "metadata": {
        "id": "s2SeZVSvL79j",
        "colab_type": "code",
        "colab": {
          "base_uri": "https://localhost:8080/",
          "height": 187
        },
        "outputId": "cf1a0c96-9455-4ec2-bd52-9edef06e596a"
      },
      "source": [
        "atleast_3time[-10:]"
      ],
      "execution_count": 46,
      "outputs": [
        {
          "output_type": "execute_result",
          "data": {
            "text/plain": [
              "['marking',\n",
              " 'based',\n",
              " 'upturn',\n",
              " 'although',\n",
              " 'prominent',\n",
              " 'digestive',\n",
              " 'accurately',\n",
              " 'Sen.',\n",
              " 'property',\n",
              " 'addicted']"
            ]
          },
          "metadata": {
            "tags": []
          },
          "execution_count": 46
        }
      ]
    },
    {
      "cell_type": "code",
      "metadata": {
        "id": "rvXVP6g4S6uw",
        "colab_type": "code",
        "colab": {}
      },
      "source": [
        ""
      ],
      "execution_count": null,
      "outputs": []
    }
  ]
}